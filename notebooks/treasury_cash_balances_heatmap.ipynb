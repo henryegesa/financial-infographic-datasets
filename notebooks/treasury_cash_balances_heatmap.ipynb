{
 "cells": [
  {
   "cell_type": "code",
   "execution_count": null,
   "id": "f39bae93-c1c1-415c-ae67-cdc0109a6c09",
   "metadata": {},
   "outputs": [],
   "source": [
    "# Cell 1: imports & styling\n",
    "import pandas as pd\n",
    "import matplotlib.pyplot as plt\n",
    "plt.rcParams.update({\n",
    "    \"font.family\": \"San Francisco, Helvetica, Arial, sans-serif\",\n",
    "    \"figure.facecolor\": \"#FFFFFF\",\n",
    "    \"axes.facecolor\": \"#F0F0F0\",\n",
    "    \"axes.edgecolor\": \"#B0B0B0\",\n",
    "    \"axes.grid\": True,\n",
    "    \"grid.color\": \"#E0E0E0\",\n",
    "})\n",
    "\n",
    "# Cell 2: load & prepare data\n",
    "df = pd.read_excel(\"../corporate_cash_balances.xlsx\", sheet_name=\"Sheet1\")\n",
    "# say the sheet has columns: Company, Quarter, Cash_MUSD\n",
    "pivot = df.pivot(index=\"Company\", columns=\"Quarter\", values=\"Cash_MUSD\")\n",
    "\n",
    "# Cell 3: plot heatmap\n",
    "fig, ax = plt.subplots(figsize=(12, 8))\n",
    "im = ax.imshow(pivot, aspect=\"auto\", cmap=\"Blues\")\n",
    "ax.set_xticks(range(len(pivot.columns)))\n",
    "ax.set_xticklabels(pivot.columns, rotation=45, ha=\"right\")\n",
    "ax.set_yticks(range(len(pivot.index)))\n",
    "ax.set_yticklabels(pivot.index)\n",
    "ax.set_title(\"Corporate Cash Balances by Quarter (M USD)\", pad=20)\n",
    "fig.colorbar(im, ax=ax, label=\"Cash (M USD)\")\n",
    "plt.tight_layout()\n",
    "\n",
    "# Cell 4: save out PNG\n",
    "plt.savefig(\"../infographics/treasury_cash_balances_heatmap.png\", dpi=300)\n"
   ]
  }
 ],
 "metadata": {
  "kernelspec": {
   "display_name": "Python 3 (ipykernel)",
   "language": "python",
   "name": "python3"
  },
  "language_info": {
   "codemirror_mode": {
    "name": "ipython",
    "version": 3
   },
   "file_extension": ".py",
   "mimetype": "text/x-python",
   "name": "python",
   "nbconvert_exporter": "python",
   "pygments_lexer": "ipython3",
   "version": "3.11.1"
  }
 },
 "nbformat": 4,
 "nbformat_minor": 5
}
